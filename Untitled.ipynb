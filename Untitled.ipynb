{
 "cells": [
  {
   "cell_type": "code",
   "execution_count": 1,
   "metadata": {},
   "outputs": [],
   "source": [
    "import math\n",
    "def stats(list2):\n",
    "    \n",
    "    #mean\n",
    "    sum_mean=0\n",
    "    for i in list2:\n",
    "        sum_mean=sum_mean+i;\n",
    "    print(\"Mean =\",(sum_mean/len(list2)))\n",
    "    \n",
    "    #median\n",
    "    mid=math.floor(len(list2)/2)\n",
    "    print(\"Median =\",list2[mid])\n",
    "    \n",
    "    #mode\n",
    "    dict_mode={list2[0]:1}\n",
    "    for i in list2:\n",
    "        if(dict_mode.get(i)==None):\n",
    "            dict_mode[i]=1\n",
    "        else:\n",
    "            dict_mode[i]+=1\n",
    "    v=max(dict_mode.values())\n",
    "    for i in dict_mode:\n",
    "        if(dict_mode[i]==v):\n",
    "            print(\"Mode =\",i)\n",
    "            \n",
    "    #standard_deviation\n",
    "    dev=0\n",
    "    n=len(list2)\n",
    "    for i in list2:\n",
    "        dev=dev+((sum_mean/len(list2))-i)**2\n",
    "    r=dev/n\n",
    "    print(\"Variance =\",r)\n",
    "    print(\"Standard Deviation =\",r**(1/2))"
   ]
  },
  {
   "cell_type": "code",
   "execution_count": 2,
   "metadata": {},
   "outputs": [
    {
     "name": "stdout",
     "output_type": "stream",
     "text": [
      "Mean = 20.0\n",
      "Median = 20\n",
      "Mode = 10\n",
      "Variance = 66.66666666666667\n",
      "Standard Deviation = 8.16496580927726\n"
     ]
    }
   ],
   "source": [
    "list2=[10,20,30]\n",
    "stats(list2)"
   ]
  },
  {
   "cell_type": "code",
   "execution_count": null,
   "metadata": {},
   "outputs": [],
   "source": []
  }
 ],
 "metadata": {
  "kernelspec": {
   "display_name": "Python 3",
   "language": "python",
   "name": "python3"
  },
  "language_info": {
   "codemirror_mode": {
    "name": "ipython",
    "version": 3
   },
   "file_extension": ".py",
   "mimetype": "text/x-python",
   "name": "python",
   "nbconvert_exporter": "python",
   "pygments_lexer": "ipython3",
   "version": "3.7.4"
  }
 },
 "nbformat": 4,
 "nbformat_minor": 2
}
